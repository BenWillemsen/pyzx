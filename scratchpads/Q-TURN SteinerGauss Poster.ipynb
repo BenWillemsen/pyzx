{
 "metadata": {
  "language_info": {
   "codemirror_mode": {
    "name": "ipython",
    "version": 3
   },
   "file_extension": ".py",
   "mimetype": "text/x-python",
   "name": "python",
   "nbconvert_exporter": "python",
   "pygments_lexer": "ipython3",
   "version": "3.6.11-final"
  },
  "orig_nbformat": 2,
  "kernelspec": {
   "name": "python3",
   "display_name": "Python 3"
  }
 },
 "nbformat": 4,
 "nbformat_minor": 2,
 "cells": [
  {
   "source": [
    "# Poster Q-TURN 2020\n",
    "# CNOT circuit synthesis for topologically-constrained quantum memories\n",
    "Authors: A. Kissinger and R. A. Meijer - van de Griend\n",
    "\n",
    "The full paper is available at [http://www.rintonpress.com/xxqic20/qic-20-78/0581-0596.pdf] or as pre-print on ArXiv [https://arxiv.org/pdf/1904.00633.pdf]\n",
    "\n",
    "[![Unitary Fund](https://img.shields.io/badge/Supported%20By-UNITARY%20FUND-brightgreen.svg?style=for-the-badge)](http://unitary.fund)"
   ],
   "cell_type": "markdown",
   "metadata": {}
  },
  {
   "source": [
    "## Introduction\n",
    "Quantum circuits give a de facto standard for representing quantum computations at a low\n",
    "level. They consist of sequences of primitive operations, called quantum gates, applied to a\n",
    "register of quantum bits, or qubits. Increasingly, noisy intermediate-scale quantum (NISQ)\n",
    "computers with 10-80 qubits are becoming a reality. Popular physical realisations such as\n",
    "superconducting quantum circuits \\[1, 2, 3\\] and ion traps \\[4, 5, 6, 7\\] consist of qubits stored\n",
    "in the physical states of systems arranged in space, where two-qubit operations are typically\n",
    "only possible between pairs of adjacent systems. Hence, when it comes to actually running\n",
    "a quantum computation on these architectures, logical qubits must be mapped to physical\n",
    "memory locations, and the circuit must be modified to only consist of 2-qubit operations\n",
    "between adjacent qubits in the physical architecture. Na¨ıvely, this can be achieved by simply\n",
    "inserting swap gates to move a pair of qubits next to each other before each 2-qubit operation.\n",
    "However, this approach comes with an enormous overhead in terms of 2-qubit operations, each\n",
    "of which introduces a great deal more noise than a single qubit operation on most realistic\n",
    "architectures \\[5\\]. More sophisticated approaches incorporate techniques from computer aided\n",
    "design \\[8\\] and machine-learning \\[9\\] in order to minimise the extra operations needed by\n",
    "making good choices of initial and intermediate memory locations for the qubits involved.\n",
    "Nevertheless, these are simply refinements of the basic ‘search and swap’ approach. Most\n",
    "approaches only take the topological structure of the circuit into account (i.e. which qubits\n",
    "are being acted upon) rather than semantic structure (i.e. the unitary being implemented),\n",
    "and hence miss out on opportunities for more efficient circuit mapping\n"
   ],
   "cell_type": "markdown",
   "metadata": {}
  },
  {
   "source": [
    "## Steiner Gauss algorithm\n",
    "TODO blabla\n"
   ],
   "cell_type": "markdown",
   "metadata": {}
  },
  {
   "source": [
    "### Code example"
   ],
   "cell_type": "markdown",
   "metadata": {}
  },
  {
   "cell_type": "code",
   "execution_count": 6,
   "metadata": {},
   "outputs": [
    {
     "output_type": "error",
     "ename": "ModuleNotFoundError",
     "evalue": "No module named 'pyzx'",
     "traceback": [
      "\u001b[1;31m---------------------------------------------------------------------------\u001b[0m",
      "\u001b[1;31mModuleNotFoundError\u001b[0m                       Traceback (most recent call last)",
      "\u001b[1;32m<ipython-input-6-19fc7dde39d7>\u001b[0m in \u001b[0;36m<module>\u001b[1;34m\u001b[0m\n\u001b[1;32m----> 1\u001b[1;33m \u001b[1;32mimport\u001b[0m \u001b[0mpyzx\u001b[0m \u001b[1;32mas\u001b[0m \u001b[0mzx\u001b[0m\u001b[1;33m\u001b[0m\u001b[1;33m\u001b[0m\u001b[0m\n\u001b[0m",
      "\u001b[1;31mModuleNotFoundError\u001b[0m: No module named 'pyzx'"
     ]
    }
   ],
   "source": [
    "import pyzx as zx"
   ]
  },
  {
   "source": [
    "## Results\n",
    "TODO blabla."
   ],
   "cell_type": "markdown",
   "metadata": {}
  },
  {
   "source": [
    "## Related work\n",
    "TODO blabla"
   ],
   "cell_type": "markdown",
   "metadata": {}
  },
  {
   "source": [
    "### Alternatives and improvements\n",
    "TODO blabla [Staq][https://iopscience.iop.org/article/10.1088/2058-9565/ab9359] [github][https://github.com/softwareQinc/staq] (Uses [Mosca paper][https://iopscience.iop.org/article/10.1088/2058-9565/ab79b1/pdf?casa_token=zEx7BuTVxZYAAAAA:pb1FvrKno_1TtwCMoJ0jZ6ER2cy7u_3AtdSyziF2CvuZbBuspbP2oEzJjYI4v-jvVHl9nvYYBxM]), [https://arxiv.org/pdf/1910.14478.pdf],  [https://link.springer.com/chapter/10.1007/978-3-030-52482-1_11]"
   ],
   "cell_type": "markdown",
   "metadata": {}
  },
  {
   "source": [
    "### Extensions to Phase polynomials\n",
    "TODO blabla  [Mosca paper][https://iopscience.iop.org/article/10.1088/2058-9565/ab79b1/pdf?casa_token=zEx7BuTVxZYAAAAA:pb1FvrKno_1TtwCMoJ0jZ6ER2cy7u_3AtdSyziF2CvuZbBuspbP2oEzJjYI4v-jvVHl9nvYYBxM], [My CQC paper][https://arxiv.org/pdf/2004.06052.pdf].\n"
   ],
   "cell_type": "markdown",
   "metadata": {}
  },
  {
   "source": [
    "## Conclusion\n",
    "TODO blabla\n"
   ],
   "cell_type": "markdown",
   "metadata": {}
  },
  {
   "source": [
    "## References\n",
    "1. Matthew Reagor, Christopher B Osborn, Nikolas Tezak, Alexa Staley, Guenevere Prawiroatmodjo,\n",
    "Michael Scheer, Nasser Alidoust, Eyob A Sete, Nicolas Didier, Marcus P da Silva, et al. Demonstration of universal parametric entangling gates on a multi-qubit lattice. Science advances,\n",
    "4(2):eaao3603, 2018.\n",
    "2. IBM. IBM unveils world’s first integrated quantum computing system for commercial use. https://newsroom.ibm.com/2019-01-08-IBM-Unveils-Worlds-First-Integrated-QuantumComputing-System-for-Commercial-Use, 2019. Accessed: 2019-03-28.\n",
    "3. R Versluis, S Poletto, N Khammassi, N Haider, DJ Michalak, A Bruno, K Bertels, and L DiCarlo.\n",
    "Scalable quantum circuit and control for a superconducting surface code. arXiv:1612.08208, 2016.\n",
    "4. Joseph W Britton, Brian C Sawyer, Adam C Keith, C-C Joseph Wang, James K Freericks, Hermann Uys, Michael J Biercuk, and John J Bollinger. Engineered two-dimensional ising interactions\n",
    "in a trapped-ion quantum simulator with hundreds of spins. Nature, 484(7395):489, 2012.\n",
    "5. CJ Ballance, TP Harty, NM Linke, MA Sepiol, and DM Lucas. High-fidelity quantum logic gates\n",
    "using trapped-ion hyperfine qubits. Physical Review Letters, 117(6):060504, 2016.\n",
    "6. JP Gaebler, TR Tan, Y Lin, Y Wan, R Bowler, AC Keith, S Glancy, K Coakley, E Knill,\n",
    "D Leibfried, et al. High-fidelity universal gate set for be 9+ ion qubits. Physical Review Letters, 117(6):060505, 2016.\n",
    "7. WK Hensinger, S Olmschenk, D Stick, D Hucul, M Yeo, M Acton, L Deslauriers, C Monroe, and\n",
    "J Rabchuk. T-junction ion trap array for two-dimensional ion shuttling, storage, and manipulation.\n",
    "Applied Physics Letters, 88(3):034101, 2006.\n",
    "8. Alwin Zulehner, Alexandru Paler, and Robert Wille. An efficient methodology for mapping quantum circuits to the IBM QX architectures. IEEE Transactions on Computer-Aided Design of\n",
    "Integrated Circuits and Systems, 2018.\n",
    "9. Steven Herbert and Akash Sengupta. Using reinforcement learning to find efficient qubit routing\n",
    "policies for deployment in near-term quantum computers. arXiv:1812.11619, 2018.\n",
    "10. Alexander Cowtan, Silas Dilkes, Ross Duncan, Alexandre Krajenbrink, Will Simmons, and Seyon\n",
    "Sivarajah. On the qubit routing problem. arXiv:1902.08091, 2019.\n",
    "11. Matthew Amy, Dmitri Maslov, and Michele Mosca. Polynomial-time T-depth optimization of\n",
    "Clifford+ T circuits via matroid partitioning. IEEE Transactions on Computer-Aided Design of\n",
    "Integrated Circuits and Systems, 33(10):1476–1489, 2014.\n",
    "12. Ross Duncan, Alex Kissinger, Simon Perdrix, and John van de Wetering. Graph-theoretic Simplification of Quantum Circuits with the ZX-calculus. https://arxiv.org/abs/1902.03178, 2019.\n",
    "13. B. Coecke and R. Duncan. Interacting quantum observables. In Proceedings of the 37th International Colloquium on Automata, Languages and Programming (ICALP), Lecture Notes in\n",
    "Computer Science, 2008.\n",
    "14. Aleks Kissinger and John van de Wetering. PyZX: A circuit optimisation tool based on the\n",
    "ZX-caculus. http://github.com/Quantomatic/pyzx.\n",
    "15. Aleks Kissinger and John van de Wetering. Reducing t-count with the zx-calculus.\n",
    "arXiv:1903.10477, 2019.\n",
    "16. Prakash Murali, Ali Javadi-Abhari, Frederic T Chong, and Margaret Martonosi. Formal\n",
    "constraint-based compilation for noisy intermediate-scale quantum systems. Microprocessors and\n",
    "Microsystems, 2019.\n",
    "17. Davide Venturelli, Minh Do, Eleanor Rieffel, and Jeremy Frank. Compiling quantum circuits\n",
    "to realistic hardware architectures using temporal planners. Quantum Science and Technology,\n",
    "3(2):025004, 2018.\n",
    "18. Alexandru Paler, Alwin Zulehner, and Robert Wille. NISQ circuit compilers: search space structure\n",
    "and heuristics. arXiv:1806.07241, 2018.\n",
    "19. Gushu Li, Yufei Ding, and Yuan Xie. Tackling the qubit mapping problem for NISQ-era quantum\n",
    "devices. arXiv:1809.02573, 2018.\n",
    "20. Davide Ferrari and Michele Amoretti. Demonstration of envariance and parity learning on the\n",
    "IBM 16 qubit processor. arXiv:1801.02363, 2018.\n",
    "21. Alexandru Paler. On the influence of initial qubit placement during NISQ circuit compilation.\n",
    "arXiv:1811.08985, 2018.\n",
    "22. Beatrice Nash, Vlad Gheorghiu, and Michele Mosca. Quantum circuit optimizations for NISQ\n",
    "architectures. arXiv preprint arXiv:1904.01972, 2019.\n",
    "23. Aleks Kissinger and Arianne Meijer-van de Griend. CNOT circuit extraction for topologicallyconstrained quantum memories. arXiv preprint arXiv:1904.00633, 2019.\n",
    "24. Ketan N. Patel, Igor L. Markov, and John P. Hayes. Optimal synthesis of linear reversible circuits.\n",
    "Quantum Info. Comput., 8(3):282–294, March 2008.\n",
    "25. Richard M Karp. Reducibility among combinatorial problems. In Complexity of computer computations, pages 85–103. Springer, 1972.\n",
    "26. Gabriel Robins and Alexander Zelikovsky. Improved steiner tree approximation in graphs. In\n",
    "SODA, pages 770–779. Citeseer, 2000.\n",
    "27. Jaroslaw Byrka, Fabrizio Grandoni, Thomas Rothvoß, and Laura Sanit`a. An Improved LP-based\n",
    "Approximation for Steiner Tree. In Proceedings of the Forty-second ACM Symposium on Theory\n",
    "of Computing, STOC ’10, pages 583–592, New York, NY, USA, 2010. ACM.\n",
    "28. Thomas H Cormen, Charles E Leiserson, Ronald L Rivest, and Clifford Stein. Introduction to\n",
    "algorithms. MIT press, 2009.\n",
    "29. David E Golberg. Genetic algorithms in search, optimization, and machine learning. Addion\n",
    "wesley, 1989(102):36, 1989.\n",
    "30. Robert S Smith, Michael J Curtis, and William J Zeng. A practical quantum instruction set\n",
    "architecture. arXiv:1608.03355, 2016.\n",
    "31. Christopher M Dawson, Andrew P Hines, Duncan Mortimer, Henry L Haselgrove, Michael A\n",
    "Nielsen, and Tobias J Osborne. Quantum computing and polynomial equations over the finite\n",
    "field z2. Quantum Information & Computation, 5(2):102–112, 2005.\n",
    "32. Matthew Amy, Parsiad Azimzadeh, and Michele Mosca. On the controlled-not complexity of\n",
    "controlled-not–phase circuits. Quantum Science and Technology, 4(1):015002, 2018.\n",
    "33. An Update on Google’s Quantum Computing Initiative. Slides for presantation at FOSDEM 2019. https://fosdem.org/2019/schedule/event/google_qc/attachments/slides/3082/\n",
    "export/events/attachments/google_qc/slides/3082/GoogleQuantumCirq.. Accessed 1 May, 2019.\n",
    "34. Performance parameters for Rigetti QPUs. https://www.rigetti.com/qpu. Accessed 1 May, 2019"
   ],
   "cell_type": "markdown",
   "metadata": {}
  }
 ]
}